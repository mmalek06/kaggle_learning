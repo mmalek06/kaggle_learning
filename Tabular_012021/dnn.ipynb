{
 "cells": [
  {
   "cell_type": "code",
   "execution_count": 1,
   "metadata": {
    "collapsed": true
   },
   "outputs": [],
   "source": [
    "import os\n",
    "\n",
    "import numpy as np\n",
    "import pandas as pd\n",
    "\n",
    "from hyperopt import fmin, hp, tpe, STATUS_OK\n",
    "from tensorflow import keras"
   ]
  },
  {
   "cell_type": "code",
   "execution_count": 2,
   "outputs": [],
   "source": [
    "train_raw = pd.read_csv('data/train.csv').drop('id', axis=1).to_numpy()\n",
    "split = int(train_raw.shape[0] * .6)\n",
    "X_train = train_raw[:split, :14]\n",
    "y_train = train_raw[:split, 14:]\n",
    "X_valid = train_raw[split:, :14]\n",
    "y_valid = train_raw[split:, 14:]\n",
    "X_valid, X_test = np.array_split(X_valid, 2)\n",
    "y_valid, y_test = np.array_split(y_valid, 2)"
   ],
   "metadata": {
    "collapsed": false
   }
  },
  {
   "cell_type": "code",
   "execution_count": 12,
   "outputs": [
    {
     "name": "stdout",
     "output_type": "stream",
     "text": [
      "Epoch 1/40\n",
      "2813/2813 [==============================] - 8s 3ms/step - loss: 0.7645 - val_loss: 0.5394\n",
      "Epoch 2/40\n",
      "2813/2813 [==============================] - 7s 3ms/step - loss: 0.5378 - val_loss: 0.5480\n",
      "Epoch 3/40\n",
      "2813/2813 [==============================] - 9s 3ms/step - loss: 0.5334 - val_loss: 0.5232\n",
      "Epoch 4/40\n",
      "2813/2813 [==============================] - 9s 3ms/step - loss: 0.5296 - val_loss: 0.5209\n",
      "Epoch 5/40\n",
      "2813/2813 [==============================] - 8s 3ms/step - loss: 0.5268 - val_loss: 0.5181\n",
      "Epoch 6/40\n",
      "2813/2813 [==============================] - 8s 3ms/step - loss: 0.5258 - val_loss: 0.5195\n",
      "Epoch 7/40\n",
      "2813/2813 [==============================] - 8s 3ms/step - loss: 0.5251 - val_loss: 0.5166\n",
      "Epoch 8/40\n",
      "2813/2813 [==============================] - 8s 3ms/step - loss: 0.5240 - val_loss: 0.5168\n",
      "Epoch 9/40\n",
      "2813/2813 [==============================] - 8s 3ms/step - loss: 0.5236 - val_loss: 0.5172\n",
      "Epoch 10/40\n",
      "2813/2813 [==============================] - 8s 3ms/step - loss: 0.5231 - val_loss: 0.5153\n",
      "Epoch 11/40\n",
      "2813/2813 [==============================] - 8s 3ms/step - loss: 0.5229 - val_loss: 0.5157\n",
      "Epoch 12/40\n",
      "2813/2813 [==============================] - 8s 3ms/step - loss: 0.5227 - val_loss: 0.5179\n",
      "Epoch 13/40\n",
      "2813/2813 [==============================] - 8s 3ms/step - loss: 0.5218 - val_loss: 0.5157\n",
      "Epoch 14/40\n",
      "2813/2813 [==============================] - 8s 3ms/step - loss: 0.5217 - val_loss: 0.5217\n",
      "Epoch 15/40\n",
      "2813/2813 [==============================] - 8s 3ms/step - loss: 0.5210 - val_loss: 0.5146\n",
      "Epoch 16/40\n",
      "2813/2813 [==============================] - 8s 3ms/step - loss: 0.5210 - val_loss: 0.5131\n",
      "Epoch 17/40\n",
      "2813/2813 [==============================] - 8s 3ms/step - loss: 0.5202 - val_loss: 0.5127\n",
      "Epoch 18/40\n",
      "2813/2813 [==============================] - 8s 3ms/step - loss: 0.5196 - val_loss: 0.5122\n",
      "Epoch 19/40\n",
      "2813/2813 [==============================] - 8s 3ms/step - loss: 0.5196 - val_loss: 0.5168\n",
      "Epoch 20/40\n",
      "2813/2813 [==============================] - 8s 3ms/step - loss: 0.5197 - val_loss: 0.5124\n",
      "Epoch 21/40\n",
      "2813/2813 [==============================] - 7s 3ms/step - loss: 0.5189 - val_loss: 0.5150\n",
      "Epoch 22/40\n",
      "2813/2813 [==============================] - 8s 3ms/step - loss: 0.5187 - val_loss: 0.5127\n",
      "Epoch 23/40\n",
      "2813/2813 [==============================] - 8s 3ms/step - loss: 0.5183 - val_loss: 0.5128\n",
      "Epoch 24/40\n",
      "2813/2813 [==============================] - 8s 3ms/step - loss: 0.5186 - val_loss: 0.5138\n",
      "Epoch 25/40\n",
      "2813/2813 [==============================] - 8s 3ms/step - loss: 0.5180 - val_loss: 0.5125\n",
      "Epoch 26/40\n",
      "2813/2813 [==============================] - 8s 3ms/step - loss: 0.5179 - val_loss: 0.5178\n",
      "Epoch 27/40\n",
      "2813/2813 [==============================] - 7s 3ms/step - loss: 0.5179 - val_loss: 0.5122\n",
      "Epoch 28/40\n",
      "2813/2813 [==============================] - 8s 3ms/step - loss: 0.5179 - val_loss: 0.5145\n",
      "Epoch 29/40\n",
      "2813/2813 [==============================] - 8s 3ms/step - loss: 0.5173 - val_loss: 0.5153\n",
      "Epoch 30/40\n",
      "2813/2813 [==============================] - 8s 3ms/step - loss: 0.5172 - val_loss: 0.5146\n",
      "Epoch 31/40\n",
      "2813/2813 [==============================] - 8s 3ms/step - loss: 0.5168 - val_loss: 0.5109\n",
      "Epoch 32/40\n",
      "2813/2813 [==============================] - 8s 3ms/step - loss: 0.5170 - val_loss: 0.5114\n",
      "Epoch 33/40\n",
      "2813/2813 [==============================] - 7s 3ms/step - loss: 0.5168 - val_loss: 0.5120\n",
      "Epoch 34/40\n",
      "2813/2813 [==============================] - 8s 3ms/step - loss: 0.5164 - val_loss: 0.5138\n",
      "Epoch 35/40\n",
      "2813/2813 [==============================] - 8s 3ms/step - loss: 0.5172 - val_loss: 0.5131\n",
      "Epoch 36/40\n",
      "2813/2813 [==============================] - 8s 3ms/step - loss: 0.5166 - val_loss: 0.5239\n",
      "Epoch 37/40\n",
      "2813/2813 [==============================] - 8s 3ms/step - loss: 0.5166 - val_loss: 0.5110\n",
      "Epoch 38/40\n",
      "2813/2813 [==============================] - 8s 3ms/step - loss: 0.5158 - val_loss: 0.5138\n",
      "Epoch 39/40\n",
      "2813/2813 [==============================] - 8s 3ms/step - loss: 0.5162 - val_loss: 0.5128\n",
      "Epoch 40/40\n",
      "2813/2813 [==============================] - 8s 3ms/step - loss: 0.5161 - val_loss: 0.5102\n"
     ]
    },
    {
     "data": {
      "text/plain": "<keras.callbacks.History at 0x1d572b65970>"
     },
     "execution_count": 12,
     "metadata": {},
     "output_type": "execute_result"
    }
   ],
   "source": [
    "baseline_model = keras.models.Sequential([\n",
    "    keras.layers.Dense(150, activation='elu'),\n",
    "    keras.layers.Dense(150, activation='elu'),\n",
    "    keras.layers.Dense(1, activation='elu')\n",
    "])\n",
    "\n",
    "baseline_model.compile(optimizer='adam', loss='mse')\n",
    "baseline_model.fit(X_train, y_train, epochs=40, batch_size=64,\n",
    "                   validation_data=(X_valid, y_valid))"
   ],
   "metadata": {
    "collapsed": false
   }
  },
  {
   "cell_type": "markdown",
   "source": [
    "Let's save the result and see the score in Kaggle"
   ],
   "metadata": {
    "collapsed": false
   }
  },
  {
   "cell_type": "code",
   "execution_count": 14,
   "outputs": [
    {
     "name": "stdout",
     "output_type": "stream",
     "text": [
      "6250/6250 [==============================] - 6s 968us/step\n"
     ]
    }
   ],
   "source": [
    "test = pd.read_csv('data/test.csv', dtype=float)\n",
    "X_target = test.drop('id', axis=1).to_numpy()\n",
    "y_target = baseline_model.predict(X_target)\n",
    "\n",
    "pd\\\n",
    "    .DataFrame(np.column_stack([test.loc[:, 'id'], y_target]), columns=['id', 'target'])\\\n",
    "    .astype({'id': int})\\\n",
    "    .to_csv(os.path.join('submissions', 'dnn_baseline.csv'), index=False)"
   ],
   "metadata": {
    "collapsed": false
   }
  },
  {
   "cell_type": "markdown",
   "source": [
    "Baseline raw data DNN regressor loss is close to 0.52 and Kaggle score is worse than that of XGBoostRegressor. Can I beat it doing some denoising first?"
   ],
   "metadata": {
    "collapsed": false
   }
  },
  {
   "cell_type": "code",
   "execution_count": 3,
   "outputs": [],
   "source": [
    "search_space = {\n",
    "    'activation': hp.choice('activation', ('relu', 'elu')),\n",
    "    'units': hp.choice('units', (4, 5, 6)),\n",
    "    'distorting_layer': hp.choice(\n",
    "        'distorting_layer',\n",
    "        (\n",
    "            keras.layers.GaussianNoise(.01),\n",
    "            keras.layers.GaussianNoise(.02),\n",
    "            keras.layers.GaussianNoise(.03),\n",
    "            keras.layers.GaussianNoise(.1),\n",
    "            keras.layers.GaussianNoise(.2)\n",
    "        ))\n",
    "}\n",
    "model_dir = os.path.join(os.curdir, 'saved_models')\n",
    "log_dir = os.path.join(os.curdir, 'tensor_logs')\n",
    "\n",
    "\n",
    "def nn_objective(space: dict) -> dict:\n",
    "    encoder = keras.models.Sequential([\n",
    "        keras.layers.Dense(14, activation=space['activation']),\n",
    "        keras.layers.Dense(28, activation=space['activation']),\n",
    "        space['distorting_layer'],\n",
    "        keras.layers.Dense(space['units'], activation=space['activation'])\n",
    "    ])\n",
    "    decoder = keras.models.Sequential([\n",
    "        keras.layers.Dense(space['units'] * 2, activation=space['activation']),\n",
    "        keras.layers.Dense(28, activation=space['activation']),\n",
    "        keras.layers.Dense(14, activation=space['activation'])\n",
    "    ])\n",
    "    denoising_ae = keras.models.Sequential([encoder, decoder])\n",
    "    early_stopping = keras.callbacks.EarlyStopping(monitor='val_loss', patience=4,\n",
    "                                                   min_delta=1e-4)\n",
    "    models_count = len(os.listdir(model_dir)) + 1\n",
    "    model_checkpoint = keras.callbacks.ModelCheckpoint(\n",
    "        os.path.join('saved_models', f'dae_{models_count}.h5'),\n",
    "        save_best_only=True)\n",
    "    param_combination = f'{space[\"activation\"]}_{space[\"units\"]}_gaussian{space[\"distorting_layer\"].stddev}'\n",
    "    current_log_dir = os.path.join(log_dir, param_combination)\n",
    "    tensorboard = keras.callbacks.TensorBoard(current_log_dir, histogram_freq=1, profile_batch=10)\n",
    "\n",
    "    denoising_ae.compile(optimizer='adam', loss='mse')\n",
    "    denoising_ae.fit(X_train, X_train, epochs=20, batch_size=64,\n",
    "                     verbose=0, callbacks=[early_stopping, model_checkpoint, tensorboard],\n",
    "                     validation_data=(X_valid, X_valid))\n",
    "\n",
    "    acc = denoising_ae.evaluate(X_test, X_test, verbose=0)\n",
    "\n",
    "    return {'loss': acc, 'status': STATUS_OK}"
   ],
   "metadata": {
    "collapsed": false
   }
  },
  {
   "cell_type": "code",
   "execution_count": null,
   "outputs": [],
   "source": [
    "best_params = fmin(\n",
    "    fn=nn_objective,\n",
    "    space=search_space,\n",
    "    algo=tpe.suggest,\n",
    "    max_evals=50)"
   ],
   "metadata": {
    "collapsed": false
   }
  },
  {
   "cell_type": "code",
   "execution_count": 5,
   "outputs": [],
   "source": [
    "from Tabular_012021.constrained_priority_list import ConstrainedPriorityList\n",
    "\n",
    "\n",
    "prio_list = ConstrainedPriorityList(50)\n",
    "\n",
    "\n",
    "for path in os.listdir(model_dir):\n",
    "    model = keras.models.load_model(os.path.join(os.curdir, 'saved_models', path))\n",
    "    loss = model.evaluate(X_test, X_test)\n",
    "\n",
    "    prio_list.add(loss, model)"
   ],
   "metadata": {
    "collapsed": false
   }
  },
  {
   "cell_type": "markdown",
   "source": [
    "Best denoising autoencoder could be taken from the priority list, but since after a while I cleaned the files, I had to build one from scratch"
   ],
   "metadata": {
    "collapsed": false
   }
  },
  {
   "cell_type": "code",
   "execution_count": 5,
   "outputs": [
    {
     "name": "stdout",
     "output_type": "stream",
     "text": [
      "Epoch 1/20\n",
      "2813/2813 [==============================] - 14s 4ms/step - loss: 0.0126 - val_loss: 0.0078\n",
      "Epoch 2/20\n",
      "2813/2813 [==============================] - 12s 4ms/step - loss: 0.0076 - val_loss: 0.0073\n",
      "Epoch 3/20\n",
      "2813/2813 [==============================] - 12s 4ms/step - loss: 0.0071 - val_loss: 0.0070\n",
      "Epoch 4/20\n",
      "2813/2813 [==============================] - 13s 4ms/step - loss: 0.0069 - val_loss: 0.0068\n",
      "Epoch 5/20\n",
      "2813/2813 [==============================] - 12s 4ms/step - loss: 0.0067 - val_loss: 0.0066\n",
      "Epoch 6/20\n",
      "2813/2813 [==============================] - 12s 4ms/step - loss: 0.0065 - val_loss: 0.0064\n",
      "Epoch 7/20\n",
      "2813/2813 [==============================] - 11s 4ms/step - loss: 0.0063 - val_loss: 0.0062\n",
      "Epoch 8/20\n",
      "2813/2813 [==============================] - 11s 4ms/step - loss: 0.0062 - val_loss: 0.0062\n",
      "Epoch 9/20\n",
      "2813/2813 [==============================] - 11s 4ms/step - loss: 0.0061 - val_loss: 0.0061\n",
      "Epoch 10/20\n",
      "2813/2813 [==============================] - 10s 4ms/step - loss: 0.0060 - val_loss: 0.0060\n",
      "Epoch 11/20\n",
      "2813/2813 [==============================] - 10s 3ms/step - loss: 0.0059 - val_loss: 0.0059\n",
      "Epoch 12/20\n",
      "2813/2813 [==============================] - 10s 4ms/step - loss: 0.0059 - val_loss: 0.0059\n",
      "Epoch 13/20\n",
      "2813/2813 [==============================] - 11s 4ms/step - loss: 0.0059 - val_loss: 0.0058\n",
      "Epoch 14/20\n",
      "2813/2813 [==============================] - 10s 4ms/step - loss: 0.0058 - val_loss: 0.0059\n",
      "Epoch 15/20\n",
      "2813/2813 [==============================] - 10s 4ms/step - loss: 0.0058 - val_loss: 0.0058\n",
      "Epoch 16/20\n",
      "2813/2813 [==============================] - 10s 4ms/step - loss: 0.0057 - val_loss: 0.0057\n",
      "Epoch 17/20\n",
      "2813/2813 [==============================] - 10s 4ms/step - loss: 0.0057 - val_loss: 0.0057\n",
      "Epoch 18/20\n",
      "2813/2813 [==============================] - 10s 4ms/step - loss: 0.0057 - val_loss: 0.0057\n",
      "Epoch 19/20\n",
      "2813/2813 [==============================] - 10s 4ms/step - loss: 0.0057 - val_loss: 0.0057\n",
      "Epoch 20/20\n",
      "2813/2813 [==============================] - 10s 4ms/step - loss: 0.0056 - val_loss: 0.0056\n"
     ]
    },
    {
     "data": {
      "text/plain": "<keras.callbacks.History at 0x229bde00970>"
     },
     "execution_count": 5,
     "metadata": {},
     "output_type": "execute_result"
    }
   ],
   "source": [
    "encoder = keras.models.Sequential([\n",
    "    keras.layers.Dense(14, 'elu'),\n",
    "    keras.layers.Dense(28, 'elu'),\n",
    "    keras.layers.GaussianNoise(.02),\n",
    "    keras.layers.Dense(6, activation='elu')\n",
    "])\n",
    "decoder = keras.models.Sequential([\n",
    "    keras.layers.Dense(12, activation='elu'),\n",
    "    keras.layers.Dense(28, activation='elu'),\n",
    "    keras.layers.Dense(14, activation='elu')\n",
    "])\n",
    "denoising_ae = keras.models.Sequential([encoder, decoder])\n",
    "\n",
    "denoising_ae.compile(optimizer='adam', loss='mse')\n",
    "denoising_ae.fit(X_train, X_train, epochs=20, batch_size=64,\n",
    "                 validation_data=(X_valid, X_valid))"
   ],
   "metadata": {
    "collapsed": false
   }
  },
  {
   "cell_type": "code",
   "execution_count": 7,
   "outputs": [
    {
     "name": "stdout",
     "output_type": "stream",
     "text": [
      "1875/1875 [==============================] - 3s 2ms/step - loss: 0.0056\n"
     ]
    },
    {
     "data": {
      "text/plain": "0.005591393448412418"
     },
     "execution_count": 7,
     "metadata": {},
     "output_type": "execute_result"
    }
   ],
   "source": [
    "denoising_ae.evaluate(X_test, X_test)"
   ],
   "metadata": {
    "collapsed": false
   }
  },
  {
   "cell_type": "markdown",
   "source": [
    "As it turns out standard DNN combined with a DNN-based denoising autoencoder does worse than raw DNN (not shown here)."
   ],
   "metadata": {
    "collapsed": false
   }
  },
  {
   "cell_type": "code",
   "execution_count": null,
   "outputs": [],
   "source": [],
   "metadata": {
    "collapsed": false
   }
  }
 ],
 "metadata": {
  "kernelspec": {
   "display_name": "Python 3",
   "language": "python",
   "name": "python3"
  },
  "language_info": {
   "codemirror_mode": {
    "name": "ipython",
    "version": 2
   },
   "file_extension": ".py",
   "mimetype": "text/x-python",
   "name": "python",
   "nbconvert_exporter": "python",
   "pygments_lexer": "ipython2",
   "version": "2.7.6"
  }
 },
 "nbformat": 4,
 "nbformat_minor": 0
}
