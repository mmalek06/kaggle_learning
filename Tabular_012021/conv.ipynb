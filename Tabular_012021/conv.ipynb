{
 "cells": [
  {
   "cell_type": "code",
   "execution_count": 2,
   "metadata": {
    "collapsed": true
   },
   "outputs": [],
   "source": [
    "import os\n",
    "\n",
    "import numpy as np\n",
    "import pandas as pd\n",
    "\n",
    "from hyperopt import fmin, hp, tpe, STATUS_OK\n",
    "from tensorflow import keras"
   ]
  },
  {
   "cell_type": "code",
   "execution_count": 5,
   "outputs": [],
   "source": [
    "train_raw = pd.read_csv('data/train.csv').drop('id', axis=1).to_numpy()\n",
    "test_raw = pd.read_csv('data/test.csv', dtype=float)\n",
    "split = int(train_raw.shape[0] * .6)\n",
    "X_train = train_raw[:split, :14]\n",
    "y_train = train_raw[:split, 14:]\n",
    "X_valid = train_raw[split:, :14]\n",
    "y_valid = train_raw[split:, 14:]\n",
    "X_valid, X_test = np.array_split(X_valid, 2)\n",
    "y_valid, y_test = np.array_split(y_valid, 2)"
   ],
   "metadata": {
    "collapsed": false
   }
  },
  {
   "cell_type": "code",
   "execution_count": 6,
   "outputs": [],
   "source": [
    "# sample size, time steps, input dimension\n",
    "X_train = X_train.reshape(X_train.shape[0], X_train.shape[1], 1)\n",
    "X_valid = X_valid.reshape(X_valid.shape[0], X_valid.shape[1], 1)\n",
    "X_test = X_test.reshape(X_test.shape[0], X_test.shape[1], 1)"
   ],
   "metadata": {
    "collapsed": false
   }
  },
  {
   "cell_type": "code",
   "execution_count": 36,
   "outputs": [
    {
     "name": "stdout",
     "output_type": "stream",
     "text": [
      "Epoch 1/40\n",
      "1407/1407 [==============================] - 7s 4ms/step - loss: 0.9357 - val_loss: 1.1895\n",
      "Epoch 2/40\n",
      "1407/1407 [==============================] - 6s 4ms/step - loss: 0.5586 - val_loss: 0.9213\n",
      "Epoch 3/40\n",
      "1407/1407 [==============================] - 6s 4ms/step - loss: 0.5485 - val_loss: 0.6458\n",
      "Epoch 4/40\n",
      "1407/1407 [==============================] - 6s 4ms/step - loss: 0.5426 - val_loss: 0.7266\n",
      "Epoch 5/40\n",
      "1407/1407 [==============================] - 6s 4ms/step - loss: 0.5370 - val_loss: 0.5541\n",
      "Epoch 6/40\n",
      "1407/1407 [==============================] - 6s 4ms/step - loss: 0.5337 - val_loss: 0.5605\n",
      "Epoch 7/40\n",
      "1407/1407 [==============================] - 6s 4ms/step - loss: 0.5304 - val_loss: 0.5403\n",
      "Epoch 8/40\n",
      "1407/1407 [==============================] - 6s 4ms/step - loss: 0.5292 - val_loss: 0.5414\n",
      "Epoch 9/40\n",
      "1407/1407 [==============================] - 6s 4ms/step - loss: 0.5276 - val_loss: 0.5261\n",
      "Epoch 10/40\n",
      "1407/1407 [==============================] - 6s 4ms/step - loss: 0.5258 - val_loss: 0.5222\n",
      "Epoch 11/40\n",
      "1407/1407 [==============================] - 6s 4ms/step - loss: 0.5247 - val_loss: 0.5174\n",
      "Epoch 12/40\n",
      "1407/1407 [==============================] - 6s 4ms/step - loss: 0.5225 - val_loss: 0.5230\n",
      "Epoch 13/40\n",
      "1407/1407 [==============================] - 6s 4ms/step - loss: 0.5213 - val_loss: 0.5160\n",
      "Epoch 14/40\n",
      "1407/1407 [==============================] - 6s 4ms/step - loss: 0.5200 - val_loss: 0.5137\n",
      "Epoch 15/40\n",
      "1407/1407 [==============================] - 6s 4ms/step - loss: 0.5192 - val_loss: 0.5166\n",
      "Epoch 16/40\n",
      "1407/1407 [==============================] - 6s 4ms/step - loss: 0.5185 - val_loss: 0.5115\n",
      "Epoch 17/40\n",
      "1407/1407 [==============================] - 6s 4ms/step - loss: 0.5168 - val_loss: 0.5123\n",
      "Epoch 18/40\n",
      "1407/1407 [==============================] - 6s 4ms/step - loss: 0.5161 - val_loss: 0.5108\n",
      "Epoch 19/40\n",
      "1407/1407 [==============================] - 6s 4ms/step - loss: 0.5154 - val_loss: 0.5155\n",
      "Epoch 20/40\n",
      "1407/1407 [==============================] - 6s 4ms/step - loss: 0.5144 - val_loss: 0.5100\n",
      "Epoch 21/40\n",
      "1407/1407 [==============================] - 6s 4ms/step - loss: 0.5139 - val_loss: 0.5082\n",
      "Epoch 22/40\n",
      "1407/1407 [==============================] - 6s 4ms/step - loss: 0.5131 - val_loss: 0.5085\n",
      "Epoch 23/40\n",
      "1407/1407 [==============================] - 6s 4ms/step - loss: 0.5122 - val_loss: 0.5174\n",
      "Epoch 24/40\n",
      "1407/1407 [==============================] - 6s 4ms/step - loss: 0.5120 - val_loss: 0.5085\n",
      "Epoch 25/40\n",
      "1407/1407 [==============================] - 6s 4ms/step - loss: 0.5112 - val_loss: 0.5191\n",
      "Epoch 26/40\n",
      "1407/1407 [==============================] - 6s 4ms/step - loss: 0.5105 - val_loss: 0.5152\n",
      "Epoch 27/40\n",
      "1407/1407 [==============================] - 6s 4ms/step - loss: 0.5105 - val_loss: 0.5063\n",
      "Epoch 28/40\n",
      "1407/1407 [==============================] - 6s 4ms/step - loss: 0.5098 - val_loss: 0.5075\n",
      "Epoch 29/40\n",
      "1407/1407 [==============================] - 6s 4ms/step - loss: 0.5090 - val_loss: 0.5071\n",
      "Epoch 30/40\n",
      "1407/1407 [==============================] - 6s 4ms/step - loss: 0.5088 - val_loss: 0.5076\n",
      "Epoch 31/40\n",
      "1407/1407 [==============================] - 6s 4ms/step - loss: 0.5082 - val_loss: 0.5067\n",
      "Epoch 32/40\n",
      "1407/1407 [==============================] - 6s 4ms/step - loss: 0.5079 - val_loss: 0.5066\n",
      "Epoch 33/40\n",
      "1407/1407 [==============================] - 6s 4ms/step - loss: 0.5071 - val_loss: 0.5075\n",
      "Epoch 34/40\n",
      "1407/1407 [==============================] - 6s 4ms/step - loss: 0.5068 - val_loss: 0.5075\n",
      "Epoch 35/40\n",
      "1407/1407 [==============================] - 6s 4ms/step - loss: 0.5060 - val_loss: 0.5069\n",
      "Epoch 36/40\n",
      "1407/1407 [==============================] - 6s 4ms/step - loss: 0.5056 - val_loss: 0.5097\n",
      "Epoch 37/40\n",
      "1407/1407 [==============================] - 6s 4ms/step - loss: 0.5053 - val_loss: 0.5052\n",
      "Epoch 38/40\n",
      "1407/1407 [==============================] - 6s 4ms/step - loss: 0.5046 - val_loss: 0.5075\n",
      "Epoch 39/40\n",
      "1407/1407 [==============================] - 6s 4ms/step - loss: 0.5049 - val_loss: 0.5063\n",
      "Epoch 40/40\n",
      "1407/1407 [==============================] - 6s 4ms/step - loss: 0.5039 - val_loss: 0.5093\n"
     ]
    },
    {
     "data": {
      "text/plain": "<keras.callbacks.History at 0x1617c8f76a0>"
     },
     "execution_count": 36,
     "metadata": {},
     "output_type": "execute_result"
    }
   ],
   "source": [
    "# baseline_model = keras.models.Sequential([\n",
    "#     keras.layers.Conv1D(128, kernel_size=7, activation='relu', input_shape=(X_train.shape[1], X_train.shape[2])),\n",
    "#     keras.layers.Conv1D(256, kernel_size=3, activation='relu'),\n",
    "#     keras.layers.MaxPool1D(pool_size=2),\n",
    "#     keras.layers.Flatten(),\n",
    "#     keras.layers.Dense(48, activation='elu'),\n",
    "#     keras.layers.Dense(1, activation='relu')\n",
    "# ])\n",
    "baseline_model = keras.models.Sequential([\n",
    "    keras.layers.Conv1D(64, kernel_size=6, activation='relu', input_shape=(X_train.shape[1], X_train.shape[2])),\n",
    "    keras.layers.Dropout(.2),\n",
    "    keras.layers.Conv1D(128, kernel_size=4, activation='relu'),\n",
    "    keras.layers.Conv1D(256, kernel_size=2, activation='relu'),\n",
    "    keras.layers.Dropout(.2),\n",
    "    keras.layers.MaxPool1D(pool_size=4),\n",
    "    keras.layers.Flatten(),\n",
    "    keras.layers.GaussianNoise(.1),\n",
    "    keras.layers.Dense(48, activation='elu'),\n",
    "    keras.layers.Dense(1, activation='elu')\n",
    "])\n",
    "\n",
    "baseline_model.compile(optimizer='adam', loss='mse')\n",
    "baseline_model.fit(X_train, y_train, epochs=40, batch_size=128,\n",
    "                   validation_data=(X_valid, y_valid))"
   ],
   "metadata": {
    "collapsed": false
   }
  },
  {
   "cell_type": "code",
   "execution_count": 23,
   "outputs": [
    {
     "name": "stdout",
     "output_type": "stream",
     "text": [
      "6250/6250 [==============================] - 8s 1ms/step\n"
     ]
    },
    {
     "name": "stderr",
     "output_type": "stream",
     "text": [
      "WARNING:absl:Found untraced functions such as _jit_compiled_convolution_op, _jit_compiled_convolution_op while saving (showing 2 of 2). These functions will not be directly callable after loading.\n"
     ]
    },
    {
     "name": "stdout",
     "output_type": "stream",
     "text": [
      "INFO:tensorflow:Assets written to: saved_models\\conv_baseline3\\assets\n"
     ]
    },
    {
     "name": "stderr",
     "output_type": "stream",
     "text": [
      "INFO:tensorflow:Assets written to: saved_models\\conv_baseline3\\assets\n"
     ]
    }
   ],
   "source": [
    "X_target = test_raw.drop('id', axis=1).to_numpy()\n",
    "y_target = baseline_model.predict(X_target)\n",
    "\n",
    "baseline_model.save(os.path.join('saved_models', 'conv_baseline3'))\n",
    "pd\\\n",
    "    .DataFrame(np.column_stack([test_raw.loc[:, 'id'], y_target]), columns=['id', 'target'])\\\n",
    "    .astype({'id': int})\\\n",
    "    .to_csv(os.path.join('submissions', 'conv_baseline3.csv'), index=False)"
   ],
   "metadata": {
    "collapsed": false
   }
  },
  {
   "cell_type": "code",
   "execution_count": null,
   "outputs": [],
   "source": [],
   "metadata": {
    "collapsed": false
   }
  }
 ],
 "metadata": {
  "kernelspec": {
   "display_name": "Python 3",
   "language": "python",
   "name": "python3"
  },
  "language_info": {
   "codemirror_mode": {
    "name": "ipython",
    "version": 2
   },
   "file_extension": ".py",
   "mimetype": "text/x-python",
   "name": "python",
   "nbconvert_exporter": "python",
   "pygments_lexer": "ipython2",
   "version": "2.7.6"
  }
 },
 "nbformat": 4,
 "nbformat_minor": 0
}
