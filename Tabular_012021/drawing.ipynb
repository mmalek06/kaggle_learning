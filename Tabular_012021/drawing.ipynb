{
 "cells": [
  {
   "cell_type": "code",
   "execution_count": 1,
   "metadata": {
    "collapsed": true
   },
   "outputs": [],
   "source": [
    "import pandas as pd\n",
    "import matplotlib.pyplot as plt"
   ]
  },
  {
   "cell_type": "code",
   "execution_count": 2,
   "outputs": [],
   "source": [
    "train = pd.read_csv('data/train.csv', dtype=float).drop(['id', 'target'], axis=1)\n",
    "test = pd.read_csv('data/test.csv', dtype=float).drop('id', axis=1)"
   ],
   "metadata": {
    "collapsed": false
   }
  },
  {
   "cell_type": "code",
   "execution_count": null,
   "outputs": [],
   "source": [
    "for cnt in range(14):\n",
    "    idx = cnt + 1\n",
    "    split = int(train.shape[0] * .25)\n",
    "\n",
    "    for n_split in range(4):\n",
    "        figure = plt.gcf()\n",
    "\n",
    "        figure.set_size_inches(19.2 * 8, 12)\n",
    "\n",
    "        _ = train.loc[(split * n_split):(split * (n_split + 1)), f'cont{idx}'].plot.line(subplots=True)\n",
    "\n",
    "        plt.savefig(f'images/cont{idx}_{n_split}.png', dpi=100)\n",
    "        plt.clf()"
   ],
   "metadata": {
    "collapsed": false,
    "pycharm": {
     "is_executing": true
    }
   }
  }
 ],
 "metadata": {
  "kernelspec": {
   "display_name": "Python 3",
   "language": "python",
   "name": "python3"
  },
  "language_info": {
   "codemirror_mode": {
    "name": "ipython",
    "version": 2
   },
   "file_extension": ".py",
   "mimetype": "text/x-python",
   "name": "python",
   "nbconvert_exporter": "python",
   "pygments_lexer": "ipython2",
   "version": "2.7.6"
  }
 },
 "nbformat": 4,
 "nbformat_minor": 0
}
