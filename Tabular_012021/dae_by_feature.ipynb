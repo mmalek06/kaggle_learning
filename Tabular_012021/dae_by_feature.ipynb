{
 "cells": [
  {
   "cell_type": "code",
   "execution_count": 13,
   "metadata": {
    "collapsed": true
   },
   "outputs": [],
   "source": [
    "import numpy as np\n",
    "import pandas as pd\n",
    "\n",
    "from tensorflow import keras\n",
    "from hyperopt import fmin, hp, tpe, STATUS_OK\n",
    "from typing import Callable"
   ]
  },
  {
   "cell_type": "code",
   "execution_count": 14,
   "outputs": [],
   "source": [
    "train = pd.read_csv('data/train.csv').drop(['id', 'target'], axis=1).to_numpy()\n",
    "test = pd.read_csv('data/test.csv').drop('id', axis=1).to_numpy()"
   ],
   "metadata": {
    "collapsed": false
   }
  },
  {
   "cell_type": "code",
   "execution_count": 15,
   "outputs": [],
   "source": [
    "split = int(train.shape[0] * .8)\n",
    "X_train = train[:split, :]\n",
    "X_valid = train[split:, :]"
   ],
   "metadata": {
    "collapsed": false
   }
  },
  {
   "cell_type": "code",
   "execution_count": 21,
   "outputs": [],
   "source": [
    "def reshape(data: np.array, n_in: int, n_out: int) -> pd.DataFrame:\n",
    "    n_vars = 1\n",
    "    df = pd.DataFrame(data)\n",
    "    cols, names = [], []\n",
    "\n",
    "    for i in range(n_in, 0, -1):\n",
    "        shifted = df.shift(i).fillna(0)\n",
    "\n",
    "        cols.append(shifted)\n",
    "\n",
    "        names += [('var%d(t-%d)' % (j+1, i)) for j in range(n_vars)]\n",
    "\n",
    "    for i in range(0, n_out):\n",
    "        shifted = df.shift(-i).fillna(0)\n",
    "\n",
    "        cols.append(shifted)\n",
    "\n",
    "        if i == 0:\n",
    "            names += [('var%d(t)' % (j+1)) for j in range(n_vars)]\n",
    "        else:\n",
    "            names += [('var%d(t+%d)' % (j+1, i)) for j in range(n_vars)]\n",
    "\n",
    "    agg = pd.concat(cols, axis=1)\n",
    "    agg.columns = names\n",
    "\n",
    "    return agg"
   ],
   "metadata": {
    "collapsed": false
   }
  },
  {
   "cell_type": "code",
   "execution_count": 27,
   "outputs": [],
   "source": [
    "search_space = {\n",
    "    'activation': hp.choice('activation', ('relu', 'elu')),\n",
    "    'units': hp.choice('units', (3, 4)),\n",
    "    'distorting_layer': hp.choice(\n",
    "        'distorting_layer',\n",
    "        (\n",
    "            keras.layers.Dropout(.2),\n",
    "            keras.layers.Dropout(.3),\n",
    "            keras.layers.GaussianNoise(.01),\n",
    "            keras.layers.GaussianNoise(.02),\n",
    "            keras.layers.GaussianNoise(.03)\n",
    "        ))\n",
    "}\n",
    "STEPS = 7\n",
    "\n",
    "\n",
    "def create_objective(X_train, X_valid, X_test) -> Callable:\n",
    "    def objective(space: dict) -> dict:\n",
    "        encoder = keras.models.Sequential([\n",
    "            keras.layers.Dense(STEPS + 1, activation=space['activation']),\n",
    "            space['distorting_layer'],\n",
    "            keras.layers.Dense(space['units'], activation=space['activation'])\n",
    "        ])\n",
    "        decoder = keras.models.Sequential([\n",
    "            keras.layers.Dense(space['units'], activation=space['activation']),\n",
    "            keras.layers.Dense(STEPS + 1, activation=space['activation'])\n",
    "        ])\n",
    "        denoising_ae = keras.models.Sequential([encoder, decoder])\n",
    "        early_stopping = keras.callbacks.EarlyStopping(monitor='val_loss', patience=4,\n",
    "                                                       min_delta=1e-4)\n",
    "\n",
    "        denoising_ae.compile(optimizer='adam', loss='mse')\n",
    "        denoising_ae.fit(X_train, X_train, epochs=20, batch_size=64,\n",
    "                         verbose=0, callbacks=[early_stopping],\n",
    "                         validation_data=(X_valid, X_valid))\n",
    "\n",
    "        acc = denoising_ae.evaluate(X_test, X_test, verbose=0)\n",
    "\n",
    "        return {'loss': acc, 'status': STATUS_OK}\n",
    "\n",
    "    return objective"
   ],
   "metadata": {
    "collapsed": false
   }
  },
  {
   "cell_type": "code",
   "execution_count": null,
   "outputs": [
    {
     "name": "stdout",
     "output_type": "stream",
     "text": [
      "100%|██████████| 40/40 [46:58<00:00, 70.46s/trial, best loss: 0.02087397873401642] \n",
      "Column 0 processed\n",
      "100%|██████████| 40/40 [40:24<00:00, 60.61s/trial, best loss: 0.02599860355257988] \n",
      "Column 1 processed\n",
      "100%|██████████| 40/40 [40:38<00:00, 60.97s/trial, best loss: 0.020129483193159103]\n",
      "Column 2 processed\n",
      "100%|██████████| 40/40 [56:30<00:00, 84.77s/trial, best loss: 0.0270722396671772]   \n",
      "Column 3 processed\n",
      "100%|██████████| 40/40 [1:10:55<00:00, 106.38s/trial, best loss: 0.024401657283306122]\n",
      "Column 4 processed\n",
      " 75%|███████▌  | 30/40 [34:30<11:11, 67.17s/trial, best loss: 0.023840466514229774]"
     ]
    }
   ],
   "source": [
    "params_by_col = {}\n",
    "\n",
    "\n",
    "for idx in range(15):\n",
    "    train_values = reshape(train[:, idx], 1, STEPS).values\n",
    "    test_values = reshape(test[:, idx], 1, STEPS).values\n",
    "    train_reshaped = train_values[:split, :]\n",
    "    valid_reshaped = train_values[split:, :]\n",
    "    best_params = fmin(\n",
    "        fn=create_objective(train_reshaped, valid_reshaped, test_values),\n",
    "        space=search_space,\n",
    "        algo=tpe.suggest,\n",
    "        max_evals=40)\n",
    "    params_by_col[f'col_{idx}'] = best_params\n",
    "\n",
    "    print(f'Column {idx} processed')"
   ],
   "metadata": {
    "collapsed": false,
    "pycharm": {
     "is_executing": true
    }
   }
  },
  {
   "cell_type": "code",
   "execution_count": null,
   "outputs": [],
   "source": [],
   "metadata": {
    "collapsed": false
   }
  }
 ],
 "metadata": {
  "kernelspec": {
   "display_name": "Python 3",
   "language": "python",
   "name": "python3"
  },
  "language_info": {
   "codemirror_mode": {
    "name": "ipython",
    "version": 2
   },
   "file_extension": ".py",
   "mimetype": "text/x-python",
   "name": "python",
   "nbconvert_exporter": "python",
   "pygments_lexer": "ipython2",
   "version": "2.7.6"
  }
 },
 "nbformat": 4,
 "nbformat_minor": 0
}
