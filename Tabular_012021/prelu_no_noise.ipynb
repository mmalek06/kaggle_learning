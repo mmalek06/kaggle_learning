{
  "nbformat": 4,
  "nbformat_minor": 0,
  "metadata": {
    "colab": {
      "provenance": []
    },
    "kernelspec": {
      "name": "python3",
      "display_name": "Python 3"
    },
    "language_info": {
      "name": "python"
    }
  },
  "cells": [
    {
      "cell_type": "code",
      "execution_count": 1,
      "metadata": {
        "id": "04pewmcxBuVc"
      },
      "outputs": [],
      "source": [
        "import os\n",
        "import numpy as np\n",
        "import pandas as pd\n",
        "import tensorflow as tf\n",
        "\n",
        "from tensorflow import keras"
      ]
    },
    {
      "cell_type": "code",
      "source": [
        "train = pd.read_csv('train.csv').drop('id', axis=1).to_numpy()\n",
        "test = pd.read_csv('test.csv').drop('id', axis=1).to_numpy()\n",
        "split = int(train.shape[0] * .8)\n",
        "X_train = train[:split, :-1]\n",
        "y_train = train[:split, -1]\n",
        "X_valid = train[split:, :-1]\n",
        "y_valid = train[split:, -1]"
      ],
      "metadata": {
        "id": "5I5xGq4MBzwa"
      },
      "execution_count": 11,
      "outputs": []
    },
    {
      "cell_type": "code",
      "source": [
        "regressor = keras.Sequential([\n",
        "    keras.layers.Dense(256),\n",
        "    keras.layers.PReLU(),\n",
        "    keras.layers.Dropout(.1),\n",
        "    keras.layers.Dense(256),\n",
        "    keras.layers.PReLU(),\n",
        "    keras.layers.Dropout(.1),\n",
        "    keras.layers.Dense(256),\n",
        "    keras.layers.PReLU(),\n",
        "    keras.layers.Dropout(.1),\n",
        "    keras.layers.Dense(256),\n",
        "    keras.layers.PReLU(),\n",
        "    keras.layers.Dropout(.1),\n",
        "    keras.layers.Dense(1),\n",
        "    keras.layers.PReLU()\n",
        "])\n",
        "\n",
        "early_stopping = keras.callbacks.EarlyStopping(monitor='val_loss', patience=30,\n",
        "                                               min_delta=1e-6)\n",
        "regressor.compile(optimizer='adam', loss='mse')\n",
        "\n",
        "history = regressor.fit(X_train, y_train, epochs=300, batch_size=64,\n",
        "           callbacks=[\n",
        "               early_stopping,\n",
        "               keras.callbacks.ModelCheckpoint(\n",
        "                   filepath='saved_models/dnn_regressor_after_dae{epoch}',\n",
        "                   save_best_only=True)],\n",
        "           validation_data=(X_valid, y_valid))"
      ],
      "metadata": {
        "colab": {
          "base_uri": "https://localhost:8080/"
        },
        "id": "6uo5n0z7B8mZ",
        "outputId": "8cf420a7-94f5-4616-defd-0f539ebab051"
      },
      "execution_count": 12,
      "outputs": [
        {
          "output_type": "stream",
          "name": "stdout",
          "text": [
            "Epoch 1/300\n",
            "3749/3750 [============================>.] - ETA: 0s - loss: 1.1702"
          ]
        },
        {
          "output_type": "stream",
          "name": "stderr",
          "text": [
            "WARNING:absl:Found untraced functions such as _update_step_xla while saving (showing 1 of 1). These functions will not be directly callable after loading.\n"
          ]
        },
        {
          "output_type": "stream",
          "name": "stdout",
          "text": [
            "\b\b\b\b\b\b\b\b\b\b\b\b\b\b\b\b\b\b\b\b\b\b\b\b\b\b\b\b\b\b\b\b\b\b\b\b\b\b\b\b\b\b\b\b\b\b\b\b\b\b\b\b\b\b\b\b\b\b\b\b\b\b\b\b\b\b\b\r3750/3750 [==============================] - 80s 21ms/step - loss: 1.1700 - val_loss: 0.5332\n",
            "Epoch 2/300\n",
            "3750/3750 [==============================] - 75s 20ms/step - loss: 0.6424 - val_loss: 0.5466\n",
            "Epoch 3/300\n",
            "3750/3750 [==============================] - 76s 20ms/step - loss: 0.6111 - val_loss: 0.5444\n",
            "Epoch 4/300\n",
            "3750/3750 [==============================] - ETA: 0s - loss: 0.5988"
          ]
        },
        {
          "output_type": "stream",
          "name": "stderr",
          "text": [
            "WARNING:absl:Found untraced functions such as _update_step_xla while saving (showing 1 of 1). These functions will not be directly callable after loading.\n"
          ]
        },
        {
          "output_type": "stream",
          "name": "stdout",
          "text": [
            "\b\b\b\b\b\b\b\b\b\b\b\b\b\b\b\b\b\b\b\b\b\b\b\b\b\b\b\b\b\b\b\b\b\b\b\b\b\b\b\b\b\b\b\b\b\b\b\b\b\b\b\b\b\b\b\b\b\b\b\b\b\b\b\b\b\b\b\r3750/3750 [==============================] - 76s 20ms/step - loss: 0.5988 - val_loss: 0.5192\n",
            "Epoch 5/300\n",
            "3749/3750 [============================>.] - ETA: 0s - loss: 0.5817"
          ]
        },
        {
          "output_type": "stream",
          "name": "stderr",
          "text": [
            "WARNING:absl:Found untraced functions such as _update_step_xla while saving (showing 1 of 1). These functions will not be directly callable after loading.\n"
          ]
        },
        {
          "output_type": "stream",
          "name": "stdout",
          "text": [
            "\b\b\b\b\b\b\b\b\b\b\b\b\b\b\b\b\b\b\b\b\b\b\b\b\b\b\b\b\b\b\b\b\b\b\b\b\b\b\b\b\b\b\b\b\b\b\b\b\b\b\b\b\b\b\b\b\b\b\b\b\b\b\b\b\b\b\b\r3750/3750 [==============================] - 74s 20ms/step - loss: 0.5817 - val_loss: 0.5158\n",
            "Epoch 6/300\n",
            "3750/3750 [==============================] - 73s 19ms/step - loss: 0.5764 - val_loss: 0.5245\n",
            "Epoch 7/300\n",
            "3749/3750 [============================>.] - ETA: 0s - loss: 0.5733"
          ]
        },
        {
          "output_type": "stream",
          "name": "stderr",
          "text": [
            "WARNING:absl:Found untraced functions such as _update_step_xla while saving (showing 1 of 1). These functions will not be directly callable after loading.\n"
          ]
        },
        {
          "output_type": "stream",
          "name": "stdout",
          "text": [
            "\b\b\b\b\b\b\b\b\b\b\b\b\b\b\b\b\b\b\b\b\b\b\b\b\b\b\b\b\b\b\b\b\b\b\b\b\b\b\b\b\b\b\b\b\b\b\b\b\b\b\b\b\b\b\b\b\b\b\b\b\b\b\b\b\b\b\b\r3750/3750 [==============================] - 77s 20ms/step - loss: 0.5733 - val_loss: 0.5131\n",
            "Epoch 8/300\n",
            "3750/3750 [==============================] - 78s 21ms/step - loss: 0.5698 - val_loss: 0.5940\n",
            "Epoch 9/300\n",
            "3750/3750 [==============================] - 77s 20ms/step - loss: 0.5652 - val_loss: 0.5215\n",
            "Epoch 10/300\n",
            "3749/3750 [============================>.] - ETA: 0s - loss: 0.5621"
          ]
        },
        {
          "output_type": "stream",
          "name": "stderr",
          "text": [
            "WARNING:absl:Found untraced functions such as _update_step_xla while saving (showing 1 of 1). These functions will not be directly callable after loading.\n"
          ]
        },
        {
          "output_type": "stream",
          "name": "stdout",
          "text": [
            "\b\b\b\b\b\b\b\b\b\b\b\b\b\b\b\b\b\b\b\b\b\b\b\b\b\b\b\b\b\b\b\b\b\b\b\b\b\b\b\b\b\b\b\b\b\b\b\b\b\b\b\b\b\b\b\b\b\b\b\b\b\b\b\b\b\b\b\r3750/3750 [==============================] - 77s 21ms/step - loss: 0.5621 - val_loss: 0.5106\n",
            "Epoch 11/300\n",
            "3750/3750 [==============================] - 80s 21ms/step - loss: 0.5605 - val_loss: 0.5129\n",
            "Epoch 12/300\n",
            "3750/3750 [==============================] - 71s 19ms/step - loss: 0.5551 - val_loss: 0.5109\n",
            "Epoch 13/300\n",
            "3750/3750 [==============================] - 72s 19ms/step - loss: 0.5492 - val_loss: 0.5376\n",
            "Epoch 14/300\n",
            "3750/3750 [==============================] - 71s 19ms/step - loss: 0.5457 - val_loss: 0.5141\n",
            "Epoch 15/300\n",
            "3750/3750 [==============================] - 80s 21ms/step - loss: 0.5449 - val_loss: 0.5117\n",
            "Epoch 16/300\n",
            "3748/3750 [============================>.] - ETA: 0s - loss: 0.5431"
          ]
        },
        {
          "output_type": "stream",
          "name": "stderr",
          "text": [
            "WARNING:absl:Found untraced functions such as _update_step_xla while saving (showing 1 of 1). These functions will not be directly callable after loading.\n"
          ]
        },
        {
          "output_type": "stream",
          "name": "stdout",
          "text": [
            "\b\b\b\b\b\b\b\b\b\b\b\b\b\b\b\b\b\b\b\b\b\b\b\b\b\b\b\b\b\b\b\b\b\b\b\b\b\b\b\b\b\b\b\b\b\b\b\b\b\b\b\b\b\b\b\b\b\b\b\b\b\b\b\b\b\b\b\r3750/3750 [==============================] - 76s 20ms/step - loss: 0.5431 - val_loss: 0.5097\n",
            "Epoch 17/300\n",
            "3750/3750 [==============================] - 75s 20ms/step - loss: 0.5425 - val_loss: 0.5174\n",
            "Epoch 18/300\n",
            "3750/3750 [==============================] - 71s 19ms/step - loss: 0.5413 - val_loss: 0.5137\n",
            "Epoch 19/300\n",
            "3748/3750 [============================>.] - ETA: 0s - loss: 0.5404"
          ]
        },
        {
          "output_type": "stream",
          "name": "stderr",
          "text": [
            "WARNING:absl:Found untraced functions such as _update_step_xla while saving (showing 1 of 1). These functions will not be directly callable after loading.\n"
          ]
        },
        {
          "output_type": "stream",
          "name": "stdout",
          "text": [
            "\b\b\b\b\b\b\b\b\b\b\b\b\b\b\b\b\b\b\b\b\b\b\b\b\b\b\b\b\b\b\b\b\b\b\b\b\b\b\b\b\b\b\b\b\b\b\b\b\b\b\b\b\b\b\b\b\b\b\b\b\b\b\b\b\b\b\b\r3750/3750 [==============================] - 77s 20ms/step - loss: 0.5403 - val_loss: 0.5095\n",
            "Epoch 20/300\n",
            "3750/3750 [==============================] - 72s 19ms/step - loss: 0.5401 - val_loss: 0.5142\n",
            "Epoch 21/300\n",
            "3750/3750 [==============================] - 73s 19ms/step - loss: 0.5397 - val_loss: 0.5367\n",
            "Epoch 22/300\n",
            "3750/3750 [==============================] - 74s 20ms/step - loss: 0.5391 - val_loss: 0.5157\n",
            "Epoch 23/300\n",
            "3750/3750 [==============================] - 74s 20ms/step - loss: 0.5395 - val_loss: 0.5184\n",
            "Epoch 24/300\n",
            "3748/3750 [============================>.] - ETA: 0s - loss: 0.5386"
          ]
        },
        {
          "output_type": "stream",
          "name": "stderr",
          "text": [
            "WARNING:absl:Found untraced functions such as _update_step_xla while saving (showing 1 of 1). These functions will not be directly callable after loading.\n"
          ]
        },
        {
          "output_type": "stream",
          "name": "stdout",
          "text": [
            "\b\b\b\b\b\b\b\b\b\b\b\b\b\b\b\b\b\b\b\b\b\b\b\b\b\b\b\b\b\b\b\b\b\b\b\b\b\b\b\b\b\b\b\b\b\b\b\b\b\b\b\b\b\b\b\b\b\b\b\b\b\b\b\b\b\b\b\r3750/3750 [==============================] - 76s 20ms/step - loss: 0.5387 - val_loss: 0.5082\n",
            "Epoch 25/300\n",
            "3750/3750 [==============================] - 73s 19ms/step - loss: 0.5374 - val_loss: 0.5148\n",
            "Epoch 26/300\n",
            "3750/3750 [==============================] - 71s 19ms/step - loss: 0.5372 - val_loss: 0.5125\n",
            "Epoch 27/300\n",
            "3748/3750 [============================>.] - ETA: 0s - loss: 0.5365"
          ]
        },
        {
          "output_type": "stream",
          "name": "stderr",
          "text": [
            "WARNING:absl:Found untraced functions such as _update_step_xla while saving (showing 1 of 1). These functions will not be directly callable after loading.\n"
          ]
        },
        {
          "output_type": "stream",
          "name": "stdout",
          "text": [
            "\b\b\b\b\b\b\b\b\b\b\b\b\b\b\b\b\b\b\b\b\b\b\b\b\b\b\b\b\b\b\b\b\b\b\b\b\b\b\b\b\b\b\b\b\b\b\b\b\b\b\b\b\b\b\b\b\b\b\b\b\b\b\b\b\b\b\b\r3750/3750 [==============================] - 76s 20ms/step - loss: 0.5365 - val_loss: 0.5075\n",
            "Epoch 28/300\n",
            "3750/3750 [==============================] - 70s 19ms/step - loss: 0.5365 - val_loss: 0.5094\n",
            "Epoch 29/300\n",
            "3750/3750 [==============================] - 69s 18ms/step - loss: 0.5362 - val_loss: 0.5093\n",
            "Epoch 30/300\n",
            "3750/3750 [==============================] - 71s 19ms/step - loss: 0.5355 - val_loss: 0.5146\n",
            "Epoch 31/300\n",
            "3747/3750 [============================>.] - ETA: 0s - loss: 0.5342"
          ]
        },
        {
          "output_type": "stream",
          "name": "stderr",
          "text": [
            "WARNING:absl:Found untraced functions such as _update_step_xla while saving (showing 1 of 1). These functions will not be directly callable after loading.\n"
          ]
        },
        {
          "output_type": "stream",
          "name": "stdout",
          "text": [
            "\b\b\b\b\b\b\b\b\b\b\b\b\b\b\b\b\b\b\b\b\b\b\b\b\b\b\b\b\b\b\b\b\b\b\b\b\b\b\b\b\b\b\b\b\b\b\b\b\b\b\b\b\b\b\b\b\b\b\b\b\b\b\b\b\b\b\b\r3750/3750 [==============================] - 71s 19ms/step - loss: 0.5343 - val_loss: 0.5063\n",
            "Epoch 32/300\n",
            "3750/3750 [==============================] - 84s 22ms/step - loss: 0.5346 - val_loss: 0.5077\n",
            "Epoch 33/300\n",
            "3750/3750 [==============================] - 74s 20ms/step - loss: 0.5330 - val_loss: 0.5459\n",
            "Epoch 34/300\n",
            "3749/3750 [============================>.] - ETA: 0s - loss: 0.5331"
          ]
        },
        {
          "output_type": "stream",
          "name": "stderr",
          "text": [
            "WARNING:absl:Found untraced functions such as _update_step_xla while saving (showing 1 of 1). These functions will not be directly callable after loading.\n"
          ]
        },
        {
          "output_type": "stream",
          "name": "stdout",
          "text": [
            "\b\b\b\b\b\b\b\b\b\b\b\b\b\b\b\b\b\b\b\b\b\b\b\b\b\b\b\b\b\b\b\b\b\b\b\b\b\b\b\b\b\b\b\b\b\b\b\b\b\b\b\b\b\b\b\b\b\b\b\b\b\b\b\b\b\b\b\r3750/3750 [==============================] - 80s 21ms/step - loss: 0.5331 - val_loss: 0.5062\n",
            "Epoch 35/300\n",
            "3750/3750 [==============================] - 78s 21ms/step - loss: 0.5322 - val_loss: 0.5073\n",
            "Epoch 36/300\n",
            "3750/3750 [==============================] - 76s 20ms/step - loss: 0.5322 - val_loss: 0.5100\n",
            "Epoch 37/300\n",
            "3750/3750 [==============================] - 78s 21ms/step - loss: 0.5314 - val_loss: 0.5079\n",
            "Epoch 38/300\n",
            "3746/3750 [============================>.] - ETA: 0s - loss: 0.5307"
          ]
        },
        {
          "output_type": "stream",
          "name": "stderr",
          "text": [
            "WARNING:absl:Found untraced functions such as _update_step_xla while saving (showing 1 of 1). These functions will not be directly callable after loading.\n"
          ]
        },
        {
          "output_type": "stream",
          "name": "stdout",
          "text": [
            "\b\b\b\b\b\b\b\b\b\b\b\b\b\b\b\b\b\b\b\b\b\b\b\b\b\b\b\b\b\b\b\b\b\b\b\b\b\b\b\b\b\b\b\b\b\b\b\b\b\b\b\b\b\b\b\b\b\b\b\b\b\b\b\b\b\b\b\r3750/3750 [==============================] - 78s 21ms/step - loss: 0.5307 - val_loss: 0.5059\n",
            "Epoch 39/300\n",
            "3750/3750 [==============================] - 73s 20ms/step - loss: 0.5306 - val_loss: 0.5079\n",
            "Epoch 40/300\n",
            "3750/3750 [==============================] - 67s 18ms/step - loss: 0.5297 - val_loss: 0.5100\n",
            "Epoch 41/300\n",
            "3750/3750 [==============================] - 74s 20ms/step - loss: 0.5291 - val_loss: 0.5120\n",
            "Epoch 42/300\n",
            "3750/3750 [==============================] - 70s 19ms/step - loss: 0.5278 - val_loss: 0.5111\n",
            "Epoch 43/300\n",
            "3750/3750 [==============================] - 74s 20ms/step - loss: 0.5270 - val_loss: 0.5133\n",
            "Epoch 44/300\n",
            "3747/3750 [============================>.] - ETA: 0s - loss: 0.5268"
          ]
        },
        {
          "output_type": "stream",
          "name": "stderr",
          "text": [
            "WARNING:absl:Found untraced functions such as _update_step_xla while saving (showing 1 of 1). These functions will not be directly callable after loading.\n"
          ]
        },
        {
          "output_type": "stream",
          "name": "stdout",
          "text": [
            "\b\b\b\b\b\b\b\b\b\b\b\b\b\b\b\b\b\b\b\b\b\b\b\b\b\b\b\b\b\b\b\b\b\b\b\b\b\b\b\b\b\b\b\b\b\b\b\b\b\b\b\b\b\b\b\b\b\b\b\b\b\b\b\b\b\b\b\r3750/3750 [==============================] - 76s 20ms/step - loss: 0.5268 - val_loss: 0.5054\n",
            "Epoch 45/300\n",
            "3750/3750 [==============================] - 76s 20ms/step - loss: 0.5252 - val_loss: 0.5237\n",
            "Epoch 46/300\n",
            "3750/3750 [==============================] - 70s 19ms/step - loss: 0.5256 - val_loss: 0.5055\n",
            "Epoch 47/300\n",
            "3746/3750 [============================>.] - ETA: 0s - loss: 0.5249"
          ]
        },
        {
          "output_type": "stream",
          "name": "stderr",
          "text": [
            "WARNING:absl:Found untraced functions such as _update_step_xla while saving (showing 1 of 1). These functions will not be directly callable after loading.\n"
          ]
        },
        {
          "output_type": "stream",
          "name": "stdout",
          "text": [
            "\b\b\b\b\b\b\b\b\b\b\b\b\b\b\b\b\b\b\b\b\b\b\b\b\b\b\b\b\b\b\b\b\b\b\b\b\b\b\b\b\b\b\b\b\b\b\b\b\b\b\b\b\b\b\b\b\b\b\b\b\b\b\b\b\b\b\b\r3750/3750 [==============================] - 72s 19ms/step - loss: 0.5249 - val_loss: 0.5053\n",
            "Epoch 48/300\n",
            "3750/3750 [==============================] - 73s 19ms/step - loss: 0.5241 - val_loss: 0.5112\n",
            "Epoch 49/300\n",
            "3750/3750 [==============================] - 72s 19ms/step - loss: 0.5233 - val_loss: 0.5208\n",
            "Epoch 50/300\n",
            "3750/3750 [==============================] - 74s 20ms/step - loss: 0.5217 - val_loss: 0.5106\n",
            "Epoch 51/300\n",
            "3750/3750 [==============================] - 73s 19ms/step - loss: 0.5214 - val_loss: 0.5219\n",
            "Epoch 52/300\n",
            "3750/3750 [==============================] - 76s 20ms/step - loss: 0.5206 - val_loss: 0.5077\n",
            "Epoch 53/300\n",
            "3750/3750 [==============================] - 73s 19ms/step - loss: 0.5193 - val_loss: 0.5319\n",
            "Epoch 54/300\n",
            "3750/3750 [==============================] - 75s 20ms/step - loss: 0.5186 - val_loss: 0.5072\n",
            "Epoch 55/300\n",
            "3750/3750 [==============================] - 77s 20ms/step - loss: 0.5177 - val_loss: 0.5095\n",
            "Epoch 56/300\n",
            "3750/3750 [==============================] - 80s 21ms/step - loss: 0.5168 - val_loss: 0.5199\n",
            "Epoch 57/300\n",
            "3750/3750 [==============================] - 75s 20ms/step - loss: 0.5168 - val_loss: 0.5060\n",
            "Epoch 58/300\n",
            "3750/3750 [==============================] - 77s 21ms/step - loss: 0.5155 - val_loss: 0.5058\n",
            "Epoch 59/300\n",
            "3750/3750 [==============================] - 77s 21ms/step - loss: 0.5153 - val_loss: 0.5095\n",
            "Epoch 60/300\n",
            "3750/3750 [==============================] - 74s 20ms/step - loss: 0.5141 - val_loss: 0.5068\n",
            "Epoch 61/300\n",
            "3750/3750 [==============================] - 80s 21ms/step - loss: 0.5136 - val_loss: 0.5072\n",
            "Epoch 62/300\n",
            "3750/3750 [==============================] - 84s 22ms/step - loss: 0.5125 - val_loss: 0.5115\n",
            "Epoch 63/300\n",
            "3750/3750 [==============================] - 76s 20ms/step - loss: 0.5108 - val_loss: 0.5078\n",
            "Epoch 64/300\n",
            "3750/3750 [==============================] - 73s 19ms/step - loss: 0.5104 - val_loss: 0.5069\n",
            "Epoch 65/300\n",
            "3750/3750 [==============================] - 78s 21ms/step - loss: 0.5095 - val_loss: 0.5068\n",
            "Epoch 66/300\n",
            "3750/3750 [==============================] - 78s 21ms/step - loss: 0.5083 - val_loss: 0.5063\n",
            "Epoch 67/300\n",
            "3750/3750 [==============================] - 79s 21ms/step - loss: 0.5079 - val_loss: 0.5092\n",
            "Epoch 68/300\n",
            "3749/3750 [============================>.] - ETA: 0s - loss: 0.5074"
          ]
        },
        {
          "output_type": "stream",
          "name": "stderr",
          "text": [
            "WARNING:absl:Found untraced functions such as _update_step_xla while saving (showing 1 of 1). These functions will not be directly callable after loading.\n"
          ]
        },
        {
          "output_type": "stream",
          "name": "stdout",
          "text": [
            "\b\b\b\b\b\b\b\b\b\b\b\b\b\b\b\b\b\b\b\b\b\b\b\b\b\b\b\b\b\b\b\b\b\b\b\b\b\b\b\b\b\b\b\b\b\b\b\b\b\b\b\b\b\b\b\b\b\b\b\b\b\b\b\b\b\b\b\r3750/3750 [==============================] - 79s 21ms/step - loss: 0.5074 - val_loss: 0.5032\n",
            "Epoch 69/300\n",
            "3750/3750 [==============================] - 75s 20ms/step - loss: 0.5073 - val_loss: 0.5062\n",
            "Epoch 70/300\n",
            "3750/3750 [==============================] - 81s 22ms/step - loss: 0.5069 - val_loss: 0.5067\n",
            "Epoch 71/300\n",
            "3750/3750 [==============================] - 73s 20ms/step - loss: 0.5065 - val_loss: 0.5039\n",
            "Epoch 72/300\n",
            "3750/3750 [==============================] - 71s 19ms/step - loss: 0.5062 - val_loss: 0.5032\n",
            "Epoch 73/300\n",
            "3750/3750 [==============================] - 72s 19ms/step - loss: 0.5064 - val_loss: 0.5036\n",
            "Epoch 74/300\n",
            "3750/3750 [==============================] - 71s 19ms/step - loss: 0.5064 - val_loss: 0.5069\n",
            "Epoch 75/300\n",
            "3750/3750 [==============================] - 74s 20ms/step - loss: 0.5061 - val_loss: 0.5041\n",
            "Epoch 76/300\n",
            "3750/3750 [==============================] - 68s 18ms/step - loss: 0.5059 - val_loss: 0.5049\n",
            "Epoch 77/300\n",
            "3750/3750 [==============================] - 79s 21ms/step - loss: 0.5057 - val_loss: 0.5048\n",
            "Epoch 78/300\n",
            "3750/3750 [==============================] - 74s 20ms/step - loss: 0.5056 - val_loss: 0.5082\n",
            "Epoch 79/300\n",
            "3750/3750 [==============================] - 74s 20ms/step - loss: 0.5056 - val_loss: 0.5049\n",
            "Epoch 80/300\n",
            "3750/3750 [==============================] - 69s 18ms/step - loss: 0.5056 - val_loss: 0.5064\n",
            "Epoch 81/300\n",
            "3750/3750 [==============================] - 74s 20ms/step - loss: 0.5052 - val_loss: 0.5069\n",
            "Epoch 82/300\n",
            "3750/3750 [==============================] - 71s 19ms/step - loss: 0.5050 - val_loss: 0.5060\n",
            "Epoch 83/300\n",
            "3750/3750 [==============================] - 75s 20ms/step - loss: 0.5049 - val_loss: 0.5036\n",
            "Epoch 84/300\n",
            "3750/3750 [==============================] - 73s 19ms/step - loss: 0.5050 - val_loss: 0.5047\n",
            "Epoch 85/300\n",
            "3750/3750 [==============================] - 70s 19ms/step - loss: 0.5047 - val_loss: 0.5033\n",
            "Epoch 86/300\n",
            "3750/3750 [==============================] - ETA: 0s - loss: 0.5048"
          ]
        },
        {
          "output_type": "stream",
          "name": "stderr",
          "text": [
            "WARNING:absl:Found untraced functions such as _update_step_xla while saving (showing 1 of 1). These functions will not be directly callable after loading.\n"
          ]
        },
        {
          "output_type": "stream",
          "name": "stdout",
          "text": [
            "\b\b\b\b\b\b\b\b\b\b\b\b\b\b\b\b\b\b\b\b\b\b\b\b\b\b\b\b\b\b\b\b\b\b\b\b\b\b\b\b\b\b\b\b\b\b\b\b\b\b\b\b\b\b\b\b\b\b\b\b\b\b\b\b\b\b\b\r3750/3750 [==============================] - 81s 22ms/step - loss: 0.5048 - val_loss: 0.5025\n",
            "Epoch 87/300\n",
            "3750/3750 [==============================] - 81s 22ms/step - loss: 0.5044 - val_loss: 0.5046\n",
            "Epoch 88/300\n",
            "3750/3750 [==============================] - 77s 21ms/step - loss: 0.5045 - val_loss: 0.5038\n",
            "Epoch 89/300\n",
            "3750/3750 [==============================] - 81s 22ms/step - loss: 0.5042 - val_loss: 0.5030\n",
            "Epoch 90/300\n",
            "3750/3750 [==============================] - 74s 20ms/step - loss: 0.5041 - val_loss: 0.5076\n",
            "Epoch 91/300\n",
            "3750/3750 [==============================] - 79s 21ms/step - loss: 0.5037 - val_loss: 0.5045\n",
            "Epoch 92/300\n",
            "3750/3750 [==============================] - 81s 22ms/step - loss: 0.5034 - val_loss: 0.5027\n",
            "Epoch 93/300\n",
            "3750/3750 [==============================] - 78s 21ms/step - loss: 0.5036 - val_loss: 0.5049\n",
            "Epoch 94/300\n",
            "3750/3750 [==============================] - 76s 20ms/step - loss: 0.5032 - val_loss: 0.5042\n",
            "Epoch 95/300\n",
            "3750/3750 [==============================] - 80s 21ms/step - loss: 0.5032 - val_loss: 0.5035\n",
            "Epoch 96/300\n",
            "3750/3750 [==============================] - 74s 20ms/step - loss: 0.5036 - val_loss: 0.5084\n",
            "Epoch 97/300\n",
            "3750/3750 [==============================] - 75s 20ms/step - loss: 0.5029 - val_loss: 0.5046\n",
            "Epoch 98/300\n",
            "3750/3750 [==============================] - 72s 19ms/step - loss: 0.5026 - val_loss: 0.5032\n",
            "Epoch 99/300\n",
            "3748/3750 [============================>.] - ETA: 0s - loss: 0.5028"
          ]
        },
        {
          "output_type": "stream",
          "name": "stderr",
          "text": [
            "WARNING:absl:Found untraced functions such as _update_step_xla while saving (showing 1 of 1). These functions will not be directly callable after loading.\n"
          ]
        },
        {
          "output_type": "stream",
          "name": "stdout",
          "text": [
            "\b\b\b\b\b\b\b\b\b\b\b\b\b\b\b\b\b\b\b\b\b\b\b\b\b\b\b\b\b\b\b\b\b\b\b\b\b\b\b\b\b\b\b\b\b\b\b\b\b\b\b\b\b\b\b\b\b\b\b\b\b\b\b\b\b\b\b\r3750/3750 [==============================] - 78s 21ms/step - loss: 0.5028 - val_loss: 0.5022\n",
            "Epoch 100/300\n",
            "3750/3750 [==============================] - 78s 21ms/step - loss: 0.5026 - val_loss: 0.5038\n",
            "Epoch 101/300\n",
            "3750/3750 [==============================] - 72s 19ms/step - loss: 0.5024 - val_loss: 0.5042\n",
            "Epoch 102/300\n",
            "3750/3750 [==============================] - 72s 19ms/step - loss: 0.5020 - val_loss: 0.5031\n",
            "Epoch 103/300\n",
            "3750/3750 [==============================] - 84s 22ms/step - loss: 0.5019 - val_loss: 0.5064\n",
            "Epoch 104/300\n",
            "3750/3750 [==============================] - 80s 21ms/step - loss: 0.5018 - val_loss: 0.5031\n",
            "Epoch 105/300\n",
            "3750/3750 [==============================] - 77s 20ms/step - loss: 0.5020 - val_loss: 0.5048\n",
            "Epoch 106/300\n",
            "3750/3750 [==============================] - 77s 20ms/step - loss: 0.5016 - val_loss: 0.5067\n",
            "Epoch 107/300\n",
            "3750/3750 [==============================] - 71s 19ms/step - loss: 0.5014 - val_loss: 0.5037\n",
            "Epoch 108/300\n",
            "3750/3750 [==============================] - 80s 21ms/step - loss: 0.5013 - val_loss: 0.5032\n",
            "Epoch 109/300\n",
            "3750/3750 [==============================] - 74s 20ms/step - loss: 0.5017 - val_loss: 0.5056\n",
            "Epoch 110/300\n",
            "3750/3750 [==============================] - 78s 21ms/step - loss: 0.5013 - val_loss: 0.5024\n",
            "Epoch 111/300\n",
            "3750/3750 [==============================] - 82s 22ms/step - loss: 0.5015 - val_loss: 0.5038\n",
            "Epoch 112/300\n",
            "3750/3750 [==============================] - 76s 20ms/step - loss: 0.5009 - val_loss: 0.5038\n",
            "Epoch 113/300\n",
            "3750/3750 [==============================] - 83s 22ms/step - loss: 0.5003 - val_loss: 0.5054\n",
            "Epoch 114/300\n",
            "3750/3750 [==============================] - 91s 24ms/step - loss: 0.5006 - val_loss: 0.5071\n",
            "Epoch 115/300\n",
            "3750/3750 [==============================] - 86s 23ms/step - loss: 0.5000 - val_loss: 0.5067\n",
            "Epoch 116/300\n",
            "3750/3750 [==============================] - 71s 19ms/step - loss: 0.5004 - val_loss: 0.5035\n",
            "Epoch 117/300\n",
            "3750/3750 [==============================] - 72s 19ms/step - loss: 0.5004 - val_loss: 0.5051\n",
            "Epoch 118/300\n",
            "3750/3750 [==============================] - 43s 11ms/step - loss: 0.4997 - val_loss: 0.5047\n",
            "Epoch 119/300\n",
            "3750/3750 [==============================] - 44s 12ms/step - loss: 0.4994 - val_loss: 0.5046\n",
            "Epoch 120/300\n",
            "3750/3750 [==============================] - 43s 11ms/step - loss: 0.4993 - val_loss: 0.5048\n",
            "Epoch 121/300\n",
            "3750/3750 [==============================] - 43s 11ms/step - loss: 0.4996 - val_loss: 0.5031\n",
            "Epoch 122/300\n",
            "3750/3750 [==============================] - 42s 11ms/step - loss: 0.4994 - val_loss: 0.5027\n",
            "Epoch 123/300\n",
            "3750/3750 [==============================] - 43s 11ms/step - loss: 0.4994 - val_loss: 0.5037\n",
            "Epoch 124/300\n",
            "3750/3750 [==============================] - 46s 12ms/step - loss: 0.4990 - val_loss: 0.5049\n",
            "Epoch 125/300\n",
            "3750/3750 [==============================] - 43s 11ms/step - loss: 0.4988 - val_loss: 0.5042\n",
            "Epoch 126/300\n",
            "3750/3750 [==============================] - 46s 12ms/step - loss: 0.4987 - val_loss: 0.5041\n",
            "Epoch 127/300\n",
            "3750/3750 [==============================] - 45s 12ms/step - loss: 0.4981 - val_loss: 0.5055\n",
            "Epoch 128/300\n",
            "3750/3750 [==============================] - 42s 11ms/step - loss: 0.4981 - val_loss: 0.5044\n",
            "Epoch 129/300\n",
            "3750/3750 [==============================] - 43s 11ms/step - loss: 0.4982 - val_loss: 0.5053\n"
          ]
        }
      ]
    },
    {
      "cell_type": "code",
      "source": [
        "y_test = regressor.predict(test)\n",
        "\n",
        "pd\\\n",
        "    .DataFrame(np.column_stack([pd.read_csv('test.csv')[['id']], y_test]), columns=['id', 'target'])\\\n",
        "    .astype({'id': int})\\\n",
        "    .to_csv('prelu_no_noise.csv', index=False)"
      ],
      "metadata": {
        "colab": {
          "base_uri": "https://localhost:8080/"
        },
        "id": "7LI88AC0oJEY",
        "outputId": "5ce5502b-c4c1-4dc7-ff44-1074e36ad752"
      },
      "execution_count": 14,
      "outputs": [
        {
          "output_type": "stream",
          "name": "stdout",
          "text": [
            "6250/6250 [==============================] - 18s 3ms/step\n"
          ]
        }
      ]
    }
  ]
}