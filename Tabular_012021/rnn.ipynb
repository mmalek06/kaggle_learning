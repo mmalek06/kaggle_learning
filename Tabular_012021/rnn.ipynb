{
 "cells": [
  {
   "cell_type": "markdown",
   "source": [
    "Denoising using GRU layers never got me anywhere, but I'm leaving it for the future as a potential inspiration"
   ],
   "metadata": {
    "collapsed": false
   }
  },
  {
   "cell_type": "code",
   "execution_count": 1,
   "metadata": {
    "collapsed": true
   },
   "outputs": [],
   "source": [
    "import numpy as np\n",
    "import pandas as pd\n",
    "\n",
    "from tensorflow import keras"
   ]
  },
  {
   "cell_type": "code",
   "execution_count": 2,
   "outputs": [],
   "source": [
    "train_raw = pd.read_csv('data/train.csv').drop('id', axis=1).to_numpy()\n",
    "split = int(train_raw.shape[0] * .6)"
   ],
   "metadata": {
    "collapsed": false
   }
  },
  {
   "cell_type": "code",
   "execution_count": 3,
   "outputs": [],
   "source": [
    "def prepare_for_rnn(data, n_in=1, n_out=1):\n",
    "    n_vars = data.shape[1]\n",
    "    df = pd.DataFrame(data)\n",
    "    cols, names = [], []\n",
    "\n",
    "    for i in range(n_in, 0, -1):\n",
    "        shifted = df.shift(i).fillna(0)\n",
    "\n",
    "        cols.append(shifted)\n",
    "\n",
    "        names += [('var%d(t-%d)' % (j+1, i)) for j in range(n_vars)]\n",
    "\n",
    "    for i in range(0, n_out):\n",
    "        shifted = df.shift(-i).fillna(0)\n",
    "\n",
    "        cols.append(shifted)\n",
    "\n",
    "        if i == 0:\n",
    "            names += [('var%d(t)' % (j+1)) for j in range(n_vars)]\n",
    "        else:\n",
    "            names += [('var%d(t+%d)' % (j+1, i)) for j in range(n_vars)]\n",
    "\n",
    "    agg = pd.concat(cols, axis=1)\n",
    "    agg.columns = names\n",
    "\n",
    "    return agg\n",
    "\n",
    "\n",
    "train_rnn = prepare_for_rnn(train_raw, 1, 3)\n",
    "values = train_rnn.values\n",
    "train_rnn = values[:split, :]\n",
    "test_rnn = values[split:, :]\n",
    "valid_rnn, test_rnn = np.array_split(test_rnn, 2)\n",
    "X_train_rnn, y_train_rnn = train_rnn[:, :-1], train_rnn[:, -1]\n",
    "X_valid_rnn, y_valid_rnn = valid_rnn[:, :-1], valid_rnn[:, -1]\n",
    "X_test_rnn, y_test_rnn = test_rnn[:, :-1], test_rnn[:, -1]\n",
    "X_train_rnn = X_train_rnn.reshape((X_train_rnn.shape[0], 1, X_train_rnn.shape[1]))\n",
    "X_valid_rnn = X_valid_rnn.reshape((X_valid_rnn.shape[0], 1, X_valid_rnn.shape[1]))\n",
    "X_test_rnn = X_test_rnn.reshape((X_test_rnn.shape[0], 1, X_test_rnn.shape[1]))"
   ],
   "metadata": {
    "collapsed": false
   }
  },
  {
   "cell_type": "code",
   "execution_count": 8,
   "outputs": [
    {
     "name": "stdout",
     "output_type": "stream",
     "text": [
      "Model: \"sequential_6\"\n",
      "_________________________________________________________________\n",
      " Layer (type)                Output Shape              Param #   \n",
      "=================================================================\n",
      " gru_4 (GRU)                 (None, 59)                21240     \n",
      "                                                                 \n",
      " gaussian_noise_2 (GaussianN  (None, 59)               0         \n",
      " oise)                                                           \n",
      "                                                                 \n",
      " dense_4 (Dense)             (None, 14)                840       \n",
      "                                                                 \n",
      "=================================================================\n",
      "Total params: 22,080\n",
      "Trainable params: 22,080\n",
      "Non-trainable params: 0\n",
      "_________________________________________________________________\n",
      "Model: \"sequential_7\"\n",
      "_________________________________________________________________\n",
      " Layer (type)                Output Shape              Param #   \n",
      "=================================================================\n",
      " dense_5 (Dense)             (None, 14)                210       \n",
      "                                                                 \n",
      " repeat_vector_2 (RepeatVect  (None, 3, 14)            0         \n",
      " or)                                                             \n",
      "                                                                 \n",
      " gru_5 (GRU)                 (None, 59)                13275     \n",
      "                                                                 \n",
      "=================================================================\n",
      "Total params: 13,485\n",
      "Trainable params: 13,485\n",
      "Non-trainable params: 0\n",
      "_________________________________________________________________\n"
     ]
    }
   ],
   "source": [
    "encoder = keras.models.Sequential([\n",
    "    keras.layers.GRU(59, input_shape=(X_train_rnn.shape[1], X_train_rnn.shape[2])),\n",
    "    keras.layers.GaussianNoise(.02),\n",
    "    keras.layers.Dense(14, activation='relu')\n",
    "])\n",
    "decoder = keras.models.Sequential([\n",
    "    keras.layers.Dense(14, activation='relu'),\n",
    "    keras.layers.RepeatVector(3),\n",
    "    keras.layers.GRU(59)\n",
    "])\n",
    "denoising_ae = keras.models.Sequential([encoder, decoder])\n",
    "\n",
    "encoder.summary()\n",
    "decoder.summary()"
   ],
   "metadata": {
    "collapsed": false
   }
  },
  {
   "cell_type": "code",
   "execution_count": null,
   "outputs": [],
   "source": [
    "denoising_ae.compile(optimizer='adam', loss='mse')\n",
    "denoising_ae.fit(X_train_rnn, X_train_rnn, epochs=50, batch_size=128,\n",
    "                 validation_data=(X_valid_rnn, X_valid_rnn))"
   ],
   "metadata": {
    "collapsed": false,
    "pycharm": {
     "is_executing": true
    }
   }
  }
 ],
 "metadata": {
  "kernelspec": {
   "display_name": "Python 3",
   "language": "python",
   "name": "python3"
  },
  "language_info": {
   "codemirror_mode": {
    "name": "ipython",
    "version": 2
   },
   "file_extension": ".py",
   "mimetype": "text/x-python",
   "name": "python",
   "nbconvert_exporter": "python",
   "pygments_lexer": "ipython2",
   "version": "2.7.6"
  }
 },
 "nbformat": 4,
 "nbformat_minor": 0
}
