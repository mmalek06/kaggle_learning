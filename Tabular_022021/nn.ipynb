{
 "cells": [
  {
   "cell_type": "code",
   "execution_count": 22,
   "metadata": {
    "collapsed": true
   },
   "outputs": [],
   "source": [
    "import numpy as np\n",
    "import pandas as pd\n",
    "%matplotlib inline\n",
    "import matplotlib.pyplot as plt\n",
    "\n",
    "from tensorflow import keras"
   ]
  },
  {
   "cell_type": "code",
   "execution_count": 23,
   "outputs": [],
   "source": [
    "train_df = pd.read_csv('data/train.csv')\n",
    "test_df = pd.read_csv('data/test.csv')\n",
    "non_categoricals = [f'cont{idx}' for idx in range(14)]\n",
    "train_cats = pd.get_dummies(train_df.drop(['id', 'target'] + non_categoricals, axis=1))\n",
    "test_cats = pd.get_dummies(test_df.drop(['id'] + non_categoricals, axis=1))\n",
    "train_df = pd.concat([train_cats, train_df.loc[:, non_categoricals + ['target']]], axis=1)\n",
    "test_df = pd.concat([test_cats, test_df.loc[:, non_categoricals]], axis=1)\n",
    "train_np = train_df.to_numpy()\n",
    "test_np = test_df.to_numpy()\n",
    "groups = np.arange(0, 12)\n",
    "train_group_labels = np.digitize(train_np[:, -1:], groups)\n",
    "test_group_labels = np.digitize(test_np[:, -1:], groups)\n",
    "split = int(train_np.shape[0] * .8)\n",
    "train = np.column_stack((train_np, train_group_labels))\n",
    "test = np.column_stack((test_np, test_group_labels))"
   ],
   "metadata": {
    "collapsed": false
   }
  },
  {
   "cell_type": "code",
   "execution_count": 24,
   "outputs": [
    {
     "name": "stdout",
     "output_type": "stream",
     "text": [
      "Group 1 is of length 1.\n",
      "Group 3 is of length 3.\n",
      "Group 4 is of length 30.\n",
      "Group 5 is of length 784.\n",
      "Group 6 is of length 14640.\n",
      "Group 7 is of length 82430.\n",
      "Group 8 is of length 106854.\n",
      "Group 9 is of length 88200.\n",
      "Group 10 is of length 6992.\n",
      "Group 11 is of length 66.\n"
     ]
    }
   ],
   "source": [
    "train_groups = {}\n",
    "\n",
    "# 56 - 69\n",
    "\n",
    "for group_id in range(groups.shape[0]):\n",
    "    group_indices = train[:, -1] == group_id\n",
    "    group = train[group_indices, :-1]\n",
    "\n",
    "    if np.any(group):\n",
    "        train_groups[group_id] = group\n",
    "\n",
    "for key, value in train_groups.items():\n",
    "    print(f'Group {key} is of length {value.shape[0]}.')"
   ],
   "metadata": {
    "collapsed": false
   }
  },
  {
   "cell_type": "code",
   "execution_count": null,
   "outputs": [],
   "source": [],
   "metadata": {
    "collapsed": false
   }
  }
 ],
 "metadata": {
  "kernelspec": {
   "display_name": "Python 3",
   "language": "python",
   "name": "python3"
  },
  "language_info": {
   "codemirror_mode": {
    "name": "ipython",
    "version": 2
   },
   "file_extension": ".py",
   "mimetype": "text/x-python",
   "name": "python",
   "nbconvert_exporter": "python",
   "pygments_lexer": "ipython2",
   "version": "2.7.6"
  }
 },
 "nbformat": 4,
 "nbformat_minor": 0
}
